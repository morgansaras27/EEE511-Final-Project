{
  "nbformat": 4,
  "nbformat_minor": 0,
  "metadata": {
    "colab": {
      "name": "my_first_one.ipynb",
      "provenance": [],
      "collapsed_sections": [],
      "authorship_tag": "ABX9TyPpMbZh/n5s9iV/MXWiNPG0",
      "include_colab_link": true
    },
    "kernelspec": {
      "name": "python3",
      "display_name": "Python 3"
    }
  },
  "cells": [
    {
      "cell_type": "markdown",
      "metadata": {
        "id": "view-in-github",
        "colab_type": "text"
      },
      "source": [
        "<a href=\"https://colab.research.google.com/github/morgansaras27/EEE511-Final-Project/blob/master/MNIST_example.ipynb\" target=\"_parent\"><img src=\"https://colab.research.google.com/assets/colab-badge.svg\" alt=\"Open In Colab\"/></a>"
      ]
    },
    {
      "cell_type": "code",
      "metadata": {
        "id": "jkGW1u4po7i_",
        "outputId": "8009e337-00f0-47ef-d98a-dee51534f098",
        "colab": {
          "base_uri": "https://localhost:8080/",
          "height": 34
        }
      },
      "source": [
        "from google.colab import drive\n",
        "drive.mount('/content/drive/')\n",
        "\n"
      ],
      "execution_count": null,
      "outputs": [
        {
          "output_type": "stream",
          "text": [
            "Mounted at /content/drive/\n"
          ],
          "name": "stdout"
        }
      ]
    },
    {
      "cell_type": "code",
      "metadata": {
        "id": "8LwkJzuIs-O0",
        "outputId": "8a6cf4fc-b59d-4995-fa58-f94e64233656",
        "colab": {
          "base_uri": "https://localhost:8080/",
          "height": 119
        }
      },
      "source": [
        "!git clone https://github.com/morgansaras27/EEE511-Final-Project.git"
      ],
      "execution_count": null,
      "outputs": [
        {
          "output_type": "stream",
          "text": [
            "Cloning into 'EEE511-Final-Project'...\n",
            "remote: Enumerating objects: 24, done.\u001b[K\n",
            "remote: Counting objects: 100% (24/24), done.\u001b[K\n",
            "remote: Compressing objects: 100% (12/12), done.\u001b[K\n",
            "remote: Total 24 (delta 6), reused 20 (delta 5), pack-reused 0\u001b[K\n",
            "Unpacking objects: 100% (24/24), done.\n"
          ],
          "name": "stdout"
        }
      ]
    },
    {
      "cell_type": "code",
      "metadata": {
        "id": "flRAXLoRx6jg",
        "outputId": "643089c9-8ff5-4742-ff7f-7b8b864b7235",
        "colab": {
          "base_uri": "https://localhost:8080/",
          "height": 85
        }
      },
      "source": [
        "!git clone https://github.com/wxs/keras-mnist-tutorial.git"
      ],
      "execution_count": null,
      "outputs": [
        {
          "output_type": "stream",
          "text": [
            "Cloning into 'keras-mnist-tutorial'...\n",
            "remote: Enumerating objects: 26, done.\u001b[K\n",
            "remote: Total 26 (delta 0), reused 0 (delta 0), pack-reused 26\u001b[K\n",
            "Unpacking objects: 100% (26/26), done.\n"
          ],
          "name": "stdout"
        }
      ]
    },
    {
      "cell_type": "code",
      "metadata": {
        "id": "vZ7uj3hdqJbj",
        "outputId": "db8a072a-1c1b-471c-d548-01b638ec5e7c",
        "colab": {
          "base_uri": "https://localhost:8080/",
          "height": 717
        }
      },
      "source": [
        "!pip install -q keras\n",
        "\n",
        "!python3 \"/content/drive/My Drive/Colab Notebooks/mnist_cnn.py\"\n"
      ],
      "execution_count": null,
      "outputs": [
        {
          "output_type": "stream",
          "text": [
            "2020-09-28 12:26:20.201366: I tensorflow/stream_executor/platform/default/dso_loader.cc:48] Successfully opened dynamic library libcudart.so.10.1\n",
            "Downloading data from https://storage.googleapis.com/tensorflow/tf-keras-datasets/mnist.npz\n",
            "11493376/11490434 [==============================] - 0s 0us/step\n",
            "x_train shape: (60000, 28, 28, 1)\n",
            "60000 train samples\n",
            "10000 test samples\n",
            "2020-09-28 12:26:22.691941: I tensorflow/stream_executor/platform/default/dso_loader.cc:48] Successfully opened dynamic library libcuda.so.1\n",
            "2020-09-28 12:26:22.752829: E tensorflow/stream_executor/cuda/cuda_driver.cc:314] failed call to cuInit: CUDA_ERROR_NO_DEVICE: no CUDA-capable device is detected\n",
            "2020-09-28 12:26:22.752915: I tensorflow/stream_executor/cuda/cuda_diagnostics.cc:156] kernel driver does not appear to be running on this host (c15035d2dbfc): /proc/driver/nvidia/version does not exist\n",
            "2020-09-28 12:26:22.753373: I tensorflow/core/platform/cpu_feature_guard.cc:142] This TensorFlow binary is optimized with oneAPI Deep Neural Network Library (oneDNN)to use the following CPU instructions in performance-critical operations:  AVX512F\n",
            "To enable them in other operations, rebuild TensorFlow with the appropriate compiler flags.\n",
            "2020-09-28 12:26:22.769799: I tensorflow/core/platform/profile_utils/cpu_utils.cc:104] CPU Frequency: 2000134999 Hz\n",
            "2020-09-28 12:26:22.770101: I tensorflow/compiler/xla/service/service.cc:168] XLA service 0x1866840 initialized for platform Host (this does not guarantee that XLA will be used). Devices:\n",
            "2020-09-28 12:26:22.770152: I tensorflow/compiler/xla/service/service.cc:176]   StreamExecutor device (0): Host, Default Version\n",
            "Epoch 1/12\n",
            "469/469 [==============================] - 127s 271ms/step - loss: 2.2820 - accuracy: 0.1351 - val_loss: 2.2383 - val_accuracy: 0.3349\n",
            "Epoch 2/12\n",
            "469/469 [==============================] - 128s 272ms/step - loss: 2.2117 - accuracy: 0.2775 - val_loss: 2.1512 - val_accuracy: 0.6085\n",
            "Epoch 3/12\n",
            "469/469 [==============================] - 127s 272ms/step - loss: 2.1220 - accuracy: 0.4023 - val_loss: 2.0362 - val_accuracy: 0.6633\n",
            "Epoch 4/12\n",
            "469/469 [==============================] - 128s 273ms/step - loss: 2.0014 - accuracy: 0.4810 - val_loss: 1.8833 - val_accuracy: 0.6995\n",
            "Epoch 5/12\n",
            "469/469 [==============================] - 127s 272ms/step - loss: 1.8469 - accuracy: 0.5383 - val_loss: 1.6905 - val_accuracy: 0.7348\n",
            "Epoch 6/12\n",
            "469/469 [==============================] - 128s 272ms/step - loss: 1.6650 - accuracy: 0.5803 - val_loss: 1.4722 - val_accuracy: 0.7640\n",
            "Epoch 7/12\n",
            "469/469 [==============================] - 128s 273ms/step - loss: 1.4852 - accuracy: 0.6134 - val_loss: 1.2588 - val_accuracy: 0.7858\n",
            "Epoch 8/12\n",
            "469/469 [==============================] - 128s 272ms/step - loss: 1.3207 - accuracy: 0.6448 - val_loss: 1.0747 - val_accuracy: 0.8041\n",
            "Epoch 9/12\n",
            "469/469 [==============================] - 128s 273ms/step - loss: 1.1844 - accuracy: 0.6682 - val_loss: 0.9293 - val_accuracy: 0.8178\n",
            "Epoch 10/12\n",
            "469/469 [==============================] - 128s 272ms/step - loss: 1.0760 - accuracy: 0.6903 - val_loss: 0.8181 - val_accuracy: 0.8298\n",
            "Epoch 11/12\n",
            "469/469 [==============================] - 128s 272ms/step - loss: 0.9925 - accuracy: 0.7087 - val_loss: 0.7352 - val_accuracy: 0.8367\n",
            "Epoch 12/12\n",
            "469/469 [==============================] - 127s 272ms/step - loss: 0.9207 - accuracy: 0.7268 - val_loss: 0.6692 - val_accuracy: 0.8460\n",
            "Test loss: 0.6691884398460388\n",
            "Test accuracy: 0.8460000157356262\n"
          ],
          "name": "stdout"
        }
      ]
    }
  ]
}